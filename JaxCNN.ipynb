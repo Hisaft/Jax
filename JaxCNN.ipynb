{
 "cells": [
  {
   "cell_type": "code",
   "execution_count": 1,
   "metadata": {},
   "outputs": [
    {
     "data": {
      "text/plain": [
       "'0.4.12'"
      ]
     },
     "execution_count": 1,
     "metadata": {},
     "output_type": "execute_result"
    }
   ],
   "source": [
    "import jax\n",
    "\n",
    "jax.__version__"
   ]
  },
  {
   "cell_type": "code",
   "execution_count": 2,
   "metadata": {},
   "outputs": [
    {
     "name": "stdout",
     "output_type": "stream",
     "text": [
      "Downloading data from https://storage.googleapis.com/tensorflow/tf-keras-datasets/train-labels-idx1-ubyte.gz\n",
      "29515/29515 [==============================] - 0s 8us/step\n",
      "Downloading data from https://storage.googleapis.com/tensorflow/tf-keras-datasets/train-images-idx3-ubyte.gz\n",
      "26421880/26421880 [==============================] - 3s 0us/step\n",
      "Downloading data from https://storage.googleapis.com/tensorflow/tf-keras-datasets/t10k-labels-idx1-ubyte.gz\n",
      "5148/5148 [==============================] - 0s 0us/step\n",
      "Downloading data from https://storage.googleapis.com/tensorflow/tf-keras-datasets/t10k-images-idx3-ubyte.gz\n",
      "4422102/4422102 [==============================] - 1s 0us/step\n"
     ]
    },
    {
     "data": {
      "text/plain": [
       "((60000, 28, 28, 1), (10000, 28, 28, 1), (60000,), (10000,))"
      ]
     },
     "execution_count": 2,
     "metadata": {},
     "output_type": "execute_result"
    }
   ],
   "source": [
    "from jax.example_libraries import stax, optimizers\n",
    "import jax.numpy as jnp \n",
    "from tensorflow import keras\n",
    "from sklearn.model_selection import train_test_split\n",
    "\n",
    "(X_train, Y_train), (X_test, Y_test) = keras.datasets.fashion_mnist.load_data()\n",
    "\n",
    "X_train, X_test, Y_train, Y_test = jnp.array(X_train, dtype=jnp.float32),\\\n",
    "                                   jnp.array(X_test, dtype=jnp.float32),\\\n",
    "                                   jnp.array(Y_train, dtype=jnp.float32),\\\n",
    "                                   jnp.array(Y_test, dtype=jnp.float32)\n",
    "\n",
    "X_train, X_test = X_train.reshape(-1,28,28,1), X_test.reshape(-1,28,28,1)\n",
    "\n",
    "X_train, X_test = X_train/255.0, X_test/255.0\n",
    "\n",
    "classes =  jnp.unique(Y_train)\n",
    "\n",
    "X_train.shape, X_test.shape, Y_train.shape, Y_test.shape"
   ]
  },
  {
   "cell_type": "code",
   "execution_count": 3,
   "metadata": {},
   "outputs": [],
   "source": [
    "conv_init, conv_apply = stax.serial(\n",
    "    stax.Conv(32,(3,3), padding=\"SAME\"),\n",
    "    stax.Relu,\n",
    "    stax.Conv(16,(3,3), padding=\"SAME\"),\n",
    "    stax.Relu,\n",
    "\n",
    "    stax.Flatten,\n",
    "    stax.Dense(len(classes)),\n",
    "    stax.Softmax\n",
    ")"
   ]
  },
  {
   "cell_type": "code",
   "execution_count": 4,
   "metadata": {},
   "outputs": [
    {
     "name": "stdout",
     "output_type": "stream",
     "text": [
      "Weight:(3, 3, 1, 32), Biase:(1, 1, 1, 32)\n",
      "Weight:(3, 3, 32, 16), Biase:(1, 1, 1, 16)\n",
      "Weight:(12544, 10), Biase:(10,)\n"
     ]
    }
   ],
   "source": [
    "rng = jax.random.PRNGKey(123)\n",
    "weights = conv_init(rng, (18, 28, 28, 1))\n",
    "weights = weights[1]\n",
    "for w in weights:\n",
    "    if w:\n",
    "        w, b = w\n",
    "        print(f\"Weight:{w.shape}, Biase:{b.shape}\")"
   ]
  },
  {
   "cell_type": "code",
   "execution_count": 5,
   "metadata": {},
   "outputs": [
    {
     "data": {
      "text/plain": [
       "Array([[0.1010583 , 0.08450613, 0.08876862, 0.10357412, 0.09424469,\n",
       "        0.06837885, 0.13585268, 0.10559723, 0.10213768, 0.11588172],\n",
       "       [0.10652138, 0.08236859, 0.11018915, 0.11165013, 0.08258919,\n",
       "        0.0772452 , 0.14238864, 0.09115906, 0.0884075 , 0.10748117],\n",
       "       [0.09566505, 0.09545239, 0.10094573, 0.10249694, 0.09882495,\n",
       "        0.08883354, 0.11344208, 0.09690957, 0.10275006, 0.10467971],\n",
       "       [0.10200436, 0.08598677, 0.10633809, 0.10407417, 0.09481844,\n",
       "        0.0829622 , 0.12135128, 0.09306401, 0.09924015, 0.11016053],\n",
       "       [0.09390712, 0.08359885, 0.10012674, 0.11463808, 0.09753538,\n",
       "        0.07206484, 0.12989207, 0.08960546, 0.10824842, 0.11038305]],      dtype=float32)"
      ]
     },
     "execution_count": 5,
     "metadata": {},
     "output_type": "execute_result"
    }
   ],
   "source": [
    "preds = conv_apply(weights, X_train[:5])\n",
    "preds"
   ]
  },
  {
   "cell_type": "code",
   "execution_count": 6,
   "metadata": {},
   "outputs": [],
   "source": [
    "def crossEntropyLoss(weights, input_data, actual):\n",
    "    preds = conv_apply(weights,input_data)\n",
    "    one_hot_actual = jax.nn.one_hot(actual, num_classes=len(classes))\n",
    "    log_preds = jnp.log(preds)\n",
    "    return - jnp.sum(one_hot_actual * log_preds)"
   ]
  },
  {
   "cell_type": "code",
   "execution_count": 9,
   "metadata": {},
   "outputs": [],
   "source": [
    "from jax import value_and_grad\n",
    "\n",
    "def TrainModelInBatches(X, Y, epochs, opt_state, batch_size=32):\n",
    "    for i in range(1, epochs + 1):\n",
    "        batches = jnp.arange((X.shape[0] // batch_size) + 1)\n",
    "\n",
    "        losses = []\n",
    "        for batch in batches:\n",
    "            if batch != batches[-1]:\n",
    "                start, end = int(batch * batch_size), int(batch * batch_size + batch_size)\n",
    "            else:\n",
    "                start, end = int(batch * batch_size), None\n",
    "\n",
    "            X_batch, Y_batch = X[start:end], Y[start:end]\n",
    "\n",
    "            loss, gradients = value_and_grad(crossEntropyLoss)(opt_get_weights(opt_state), X_batch,Y_batch)\n",
    "\n",
    "                ## Update Weights\n",
    "            opt_state = opt_update(i, gradients, opt_state)\n",
    "\n",
    "            losses.append(loss) ## Record Loss\n",
    "        print(\"CrossEntropyLoss : {:.3f}\".format(jnp.array(losses).mean()))\n",
    "    return opt_state"
   ]
  },
  {
   "cell_type": "code",
   "execution_count": 10,
   "metadata": {},
   "outputs": [
    {
     "name": "stdout",
     "output_type": "stream",
     "text": [
      "CrossEntropyLoss : 228.892\n",
      "CrossEntropyLoss : 145.997\n",
      "CrossEntropyLoss : 127.736\n",
      "CrossEntropyLoss : 117.267\n",
      "CrossEntropyLoss : 109.906\n",
      "CrossEntropyLoss : 104.241\n",
      "CrossEntropyLoss : 99.730\n",
      "CrossEntropyLoss : 96.072\n",
      "CrossEntropyLoss : 93.087\n",
      "CrossEntropyLoss : 90.570\n",
      "CrossEntropyLoss : 88.415\n",
      "CrossEntropyLoss : 86.527\n",
      "CrossEntropyLoss : 84.845\n",
      "CrossEntropyLoss : 83.308\n",
      "CrossEntropyLoss : 81.903\n",
      "CrossEntropyLoss : 80.579\n",
      "CrossEntropyLoss : 79.349\n",
      "CrossEntropyLoss : 78.185\n",
      "CrossEntropyLoss : 77.085\n",
      "CrossEntropyLoss : 76.043\n",
      "CrossEntropyLoss : 75.054\n",
      "CrossEntropyLoss : 74.103\n",
      "CrossEntropyLoss : 73.185\n",
      "CrossEntropyLoss : 72.294\n",
      "CrossEntropyLoss : 71.427\n"
     ]
    }
   ],
   "source": [
    "seed = jax.random.PRNGKey(123)\n",
    "learning_rate = jnp.array(1/1e4)\n",
    "epochs = 25\n",
    "batch_size=256\n",
    "\n",
    "weights = conv_init(rng, (batch_size,28,28,1))\n",
    "weights = weights[1]\n",
    "\n",
    "\n",
    "opt_init, opt_update, opt_get_weights = optimizers.sgd(learning_rate)\n",
    "opt_state = opt_init(weights)\n",
    "\n",
    "final_opt_state = TrainModelInBatches(X_train, Y_train, epochs, opt_state, batch_size=batch_size)"
   ]
  }
 ],
 "metadata": {
  "kernelspec": {
   "display_name": "sf1",
   "language": "python",
   "name": "python3"
  },
  "language_info": {
   "codemirror_mode": {
    "name": "ipython",
    "version": 3
   },
   "file_extension": ".py",
   "mimetype": "text/x-python",
   "name": "python",
   "nbconvert_exporter": "python",
   "pygments_lexer": "ipython3",
   "version": "3.8.15"
  },
  "orig_nbformat": 4
 },
 "nbformat": 4,
 "nbformat_minor": 2
}
